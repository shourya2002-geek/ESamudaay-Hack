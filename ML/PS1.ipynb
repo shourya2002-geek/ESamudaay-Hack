{
 "cells": [
  {
   "cell_type": "code",
   "execution_count": 119,
   "id": "f2ab380c-af5e-4740-bc4f-5638fb832696",
   "metadata": {},
   "outputs": [],
   "source": [
    "import json\n",
    "import requests\n",
    "from collections import defaultdict\n",
    "import re\n",
    "import pandas as pd"
   ]
  },
  {
   "cell_type": "code",
   "execution_count": 120,
   "id": "8ebccbb4-6584-40b3-b949-fad689c8fd49",
   "metadata": {},
   "outputs": [],
   "source": [
    "f = open('data.json')\n",
    "data = json.load(f)"
   ]
  },
  {
   "cell_type": "code",
   "execution_count": 121,
   "id": "c50a1a60-6d02-457b-88e7-0652aaa54361",
   "metadata": {},
   "outputs": [
    {
     "data": {
      "text/plain": [
       "['context', 'message']"
      ]
     },
     "execution_count": 121,
     "metadata": {},
     "output_type": "execute_result"
    }
   ],
   "source": [
    "list(data.keys())"
   ]
  },
  {
   "cell_type": "code",
   "execution_count": 122,
   "id": "33c21ed4-692b-4334-a873-debd7dc5ec58",
   "metadata": {},
   "outputs": [
    {
     "data": {
      "text/plain": [
       "{'action': 'on_search',\n",
       " 'transaction_id': 'abhinav4',\n",
       " 'message_id': '1658995248462',\n",
       " 'city': 'std:080',\n",
       " 'domain': 'nic2004:52110',\n",
       " 'country': 'IND',\n",
       " 'core_version': '0.9.3',\n",
       " 'timestamp': '2022-07-29T11:01:41.796972Z',\n",
       " 'bap_id': 'ondc.paytm.com',\n",
       " 'bap_uri': 'https://bb5c-45-112-144-38.ngrok.io/add',\n",
       " 'bpp_id': 'agri.ondc.esamudaay.com',\n",
       " 'bpp_uri': 'https://api.test.esamudaay.com/external/v1/ondc/retail/bpp'}"
      ]
     },
     "execution_count": 122,
     "metadata": {},
     "output_type": "execute_result"
    }
   ],
   "source": [
    "data['context']"
   ]
  },
  {
   "cell_type": "code",
   "execution_count": 123,
   "id": "3d58a959-aea6-4329-9d0b-f6c74716a088",
   "metadata": {},
   "outputs": [
    {
     "data": {
      "text/plain": [
       "dict_keys(['bpp/descriptor', 'bpp/providers', 'bpp/categories'])"
      ]
     },
     "execution_count": 123,
     "metadata": {},
     "output_type": "execute_result"
    }
   ],
   "source": [
    "data['message']['catalog'].keys()"
   ]
  },
  {
   "cell_type": "code",
   "execution_count": 124,
   "id": "2c0cb8ab-dd26-4659-8b96-580f24d4ff31",
   "metadata": {},
   "outputs": [
    {
     "data": {
      "text/plain": [
       "{'name': 'eSamudaay',\n",
       " 'code': 'ESAM',\n",
       " 'symbol': 'https://media.esamudaay.com/user-media/es-logo-small.png',\n",
       " 'short_desc': 'Transforming digital and business landscape of India',\n",
       " 'long_desc': 'To act as the catalyst of growth for entrepreneurship by providing funding and resources to initiate transformative businesses',\n",
       " 'images': ['https://media.esamudaay.com/user-media/es-logo-small.png']}"
      ]
     },
     "execution_count": 124,
     "metadata": {},
     "output_type": "execute_result"
    }
   ],
   "source": [
    "data['message']['catalog']['bpp/descriptor']"
   ]
  },
  {
   "cell_type": "code",
   "execution_count": 125,
   "id": "687a725a-33f5-4645-a3ca-bc47583fcc89",
   "metadata": {},
   "outputs": [
    {
     "data": {
      "text/plain": [
       "[{'id': '0635ecff-8fde-4185-8cd8-167efda42bbc',\n",
       "  'descriptor': {'name': 'Ravada Stores',\n",
       "   'code': 'ESAM',\n",
       "   'symbol': 'https://media.esamudaay.com/user-media/es-logo-small.png',\n",
       "   'short_desc': 'Ravada Stores',\n",
       "   'long_desc': 'Ravada Stores',\n",
       "   'images': ['https://media.esamudaay.com/user-media/es-logo-small.png']},\n",
       "  'locations': [{'id': '8cbe235d-f510-496b-881b-3e270f0d0463',\n",
       "    'descriptor': {'name': 'Main Market',\n",
       "     'code': 'ESAM',\n",
       "     'symbol': '',\n",
       "     'short_desc': 'SHop No 2, Street 1',\n",
       "     'long_desc': '',\n",
       "     'images': []},\n",
       "    'gps': '13.0514944,77.5094272',\n",
       "    'address': {'city': 'Bangalore',\n",
       "     'street': None,\n",
       "     'area_code': '560035',\n",
       "     'state': 'Karnataka',\n",
       "     'name': 'Main Market'}}],\n",
       "  'fulfillments': [{'type': 'Pickup',\n",
       "    'id': '2',\n",
       "    'start': {'location': {'id': '8cbe235d-f510-496b-881b-3e270f0d0463',\n",
       "      'gps': '13.0514944,77.5094272',\n",
       "      'address': {'city': 'Bangalore',\n",
       "       'building': None,\n",
       "       'area_code': '560035',\n",
       "       'state': 'Karnataka',\n",
       "       'name': 'Main Market'}}}},\n",
       "   {'type': 'Delivery',\n",
       "    'id': '1',\n",
       "    'start': {'location': {'id': '8cbe235d-f510-496b-881b-3e270f0d0463',\n",
       "      'gps': '13.0514944,77.5094272',\n",
       "      'address': {'city': 'Bangalore',\n",
       "       'building': None,\n",
       "       'area_code': '560035',\n",
       "       'state': 'Karnataka',\n",
       "       'name': 'Main Market'}}}}],\n",
       "  'rateable': False,\n",
       "  '@ondc/org/fssai_license_no': '',\n",
       "  'ttl': 'PT24H',\n",
       "  'items': [{'id': '1900',\n",
       "    'parent_item_id': '1388',\n",
       "    'descriptor': {'name': 'Chicken Breast Boneless',\n",
       "     'code': 'ESAM',\n",
       "     'symbol': 'https://media.esamudaay.com/user-media/veg.png',\n",
       "     'short_desc': 'Chicken Breast Boneless',\n",
       "     'long_desc': 'Chicken Breast Boneless',\n",
       "     'images': ['https://media.test.esamudaay.com/user-media/chilli-chicken_JRHHisY.jpg']},\n",
       "    'price': {'currency': 'INR',\n",
       "     'value': '1.0',\n",
       "     'listed_price': '0.97',\n",
       "     'maximum_value': '1.0'},\n",
       "    'rateable': False,\n",
       "    'matched': True,\n",
       "    'category_id': 'PACKAGED_COMMODITIES',\n",
       "    'fulfillment_id': '1',\n",
       "    'location_id': '8cbe235d-f510-496b-881b-3e270f0d0463',\n",
       "    '@ondc/org/returnable': False,\n",
       "    '@ondc/org/seller_pickup_return': True,\n",
       "    '@ondc/org/available_on_cod': False,\n",
       "    '@ondc/org/return_window': 'PT24H',\n",
       "    '@ondc/org/time_to_ship': 'PT2H',\n",
       "    '@ondc/org/cancellable': False,\n",
       "    '@ondc/org/contact_details_consumer_care': 'Name. Support Guy1 | Contact no. +918123462111',\n",
       "    '@ondc/org/statutory_reqs_packaged_commodities': {'manufacturer_or_packer_name': 'Kitchen',\n",
       "     'manufacturer_or_packer_address': '103 Prithvi appartment, Malleswaram, Bengaluru, Karnataka 560003',\n",
       "     'common_or_generic_name_of_commodity': 'Chicken',\n",
       "     'net_quantity_or_measure_of_commodity_in_pkg': '250 gms',\n",
       "     'month_year_of_manufacture_packing_import': '14/02/2022',\n",
       "     'imported_product_country_of_origin': 'India'}},\n",
       "   {'id': '1898',\n",
       "    'parent_item_id': '1387',\n",
       "    'descriptor': {'name': 'Chicken - With Skin',\n",
       "     'code': 'ESAM',\n",
       "     'symbol': 'https://media.esamudaay.com/user-media/veg.png',\n",
       "     'short_desc': 'Chicken - With Skin',\n",
       "     'long_desc': 'Chicken - With Skin',\n",
       "     'images': ['https://media.test.esamudaay.com/user-media/chilli-chicken_JRHHisY.jpg']},\n",
       "    'price': {'currency': 'INR',\n",
       "     'value': '100.0',\n",
       "     'listed_price': '97.09',\n",
       "     'maximum_value': '100.0'},\n",
       "    'rateable': False,\n",
       "    'matched': True,\n",
       "    'category_id': 'PACKAGED_COMMODITIES',\n",
       "    'fulfillment_id': '1',\n",
       "    'location_id': '8cbe235d-f510-496b-881b-3e270f0d0463',\n",
       "    '@ondc/org/returnable': False,\n",
       "    '@ondc/org/seller_pickup_return': True,\n",
       "    '@ondc/org/available_on_cod': False,\n",
       "    '@ondc/org/return_window': 'PT24H',\n",
       "    '@ondc/org/time_to_ship': 'PT2H',\n",
       "    '@ondc/org/cancellable': False,\n",
       "    '@ondc/org/contact_details_consumer_care': 'Name. Support Guy1 | Contact no. +918123462111',\n",
       "    '@ondc/org/statutory_reqs_packaged_commodities': {'manufacturer_or_packer_name': 'Kitchen',\n",
       "     'manufacturer_or_packer_address': '103 Prithvi appartment, Malleswaram, Bengaluru, Karnataka 560003',\n",
       "     'common_or_generic_name_of_commodity': 'Chicken',\n",
       "     'net_quantity_or_measure_of_commodity_in_pkg': '500 gms',\n",
       "     'month_year_of_manufacture_packing_import': '14/02/2022',\n",
       "     'imported_product_country_of_origin': 'India'}},\n",
       "   {'id': '1897',\n",
       "    'parent_item_id': '1387',\n",
       "    'descriptor': {'name': 'Chicken - With Skin',\n",
       "     'code': 'ESAM',\n",
       "     'symbol': 'https://media.esamudaay.com/user-media/veg.png',\n",
       "     'short_desc': 'Chicken - With Skin',\n",
       "     'long_desc': 'Chicken - With Skin',\n",
       "     'images': ['https://media.test.esamudaay.com/user-media/chilli-chicken_JRHHisY.jpg']},\n",
       "    'price': {'currency': 'INR',\n",
       "     'value': '51.0',\n",
       "     'listed_price': '49.51',\n",
       "     'maximum_value': '51.0'},\n",
       "    'rateable': False,\n",
       "    'matched': True,\n",
       "    'category_id': 'PACKAGED_COMMODITIES',\n",
       "    'fulfillment_id': '1',\n",
       "    'location_id': '8cbe235d-f510-496b-881b-3e270f0d0463',\n",
       "    '@ondc/org/returnable': False,\n",
       "    '@ondc/org/seller_pickup_return': True,\n",
       "    '@ondc/org/available_on_cod': False,\n",
       "    '@ondc/org/return_window': 'PT24H',\n",
       "    '@ondc/org/time_to_ship': 'PT2H',\n",
       "    '@ondc/org/cancellable': False,\n",
       "    '@ondc/org/contact_details_consumer_care': 'Name. Support Guy1 | Contact no. +918123462111',\n",
       "    '@ondc/org/statutory_reqs_packaged_commodities': {'manufacturer_or_packer_name': 'Kitchen',\n",
       "     'manufacturer_or_packer_address': '103 Prithvi appartment, Malleswaram, Bengaluru, Karnataka 560003',\n",
       "     'common_or_generic_name_of_commodity': 'Chicken',\n",
       "     'net_quantity_or_measure_of_commodity_in_pkg': '250 gms',\n",
       "     'month_year_of_manufacture_packing_import': '14/02/2022',\n",
       "     'imported_product_country_of_origin': 'India'}}]}]"
      ]
     },
     "execution_count": 125,
     "metadata": {},
     "output_type": "execute_result"
    }
   ],
   "source": [
    "data['message']['catalog']['bpp/providers']"
   ]
  },
  {
   "cell_type": "code",
   "execution_count": 126,
   "id": "9461abe1-9dad-4956-8f93-33908eacbd32",
   "metadata": {},
   "outputs": [
    {
     "data": {
      "text/plain": [
       "[{'id': 'PACKAGED_COMMODITIES',\n",
       "  'descriptor': {'name': 'Packaged Commodities',\n",
       "   'short_desc': 'All kinds of Packaged goods'}},\n",
       " {'id': 'PACKAGED_FOOD',\n",
       "  'descriptor': {'name': 'Packaged Foods',\n",
       "   'short_desc': 'All kinds of Packaged foods'}},\n",
       " {'id': 'FRUITS_N_VEGGIES',\n",
       "  'descriptor': {'name': 'Fruits and Vegetables',\n",
       "   'short_desc': 'Fresh Fruits and Veggies'}},\n",
       " {'id': 'RESTAURANT',\n",
       "  'descriptor': {'name': 'Restaurant', 'short_desc': 'Resto food'}}]"
      ]
     },
     "execution_count": 126,
     "metadata": {},
     "output_type": "execute_result"
    }
   ],
   "source": [
    "data['message']['catalog']['bpp/categories']"
   ]
  },
  {
   "cell_type": "code",
   "execution_count": 127,
   "id": "94cdee8a-4df9-4746-9587-6357f42fc123",
   "metadata": {},
   "outputs": [
    {
     "data": {
      "text/plain": [
       "['action',\n",
       " 'transaction_id',\n",
       " 'message_id',\n",
       " 'city',\n",
       " 'domain',\n",
       " 'country',\n",
       " 'core_version',\n",
       " 'timestamp',\n",
       " 'bap_id',\n",
       " 'bap_uri',\n",
       " 'bpp_id',\n",
       " 'bpp_uri']"
      ]
     },
     "execution_count": 127,
     "metadata": {},
     "output_type": "execute_result"
    }
   ],
   "source": [
    "cols=[]\n",
    "for i in data['context'].keys():\n",
    "    cols.append(i)\n",
    "context=pd.DataFrame(columns=cols)\n",
    "cols"
   ]
  },
  {
   "cell_type": "code",
   "execution_count": 135,
   "id": "9accb4dc-66af-43c8-a808-efc8141f9838",
   "metadata": {},
   "outputs": [
    {
     "name": "stdout",
     "output_type": "stream",
     "text": [
      "[['on_search', 'abhinav4', '1658995248462', 'std:080', 'nic2004:52110', 'IND', '0.9.3', '2022-07-29T11:01:41.796972Z', 'ondc.paytm.com', 'https://bb5c-45-112-144-38.ngrok.io/add', 'agri.ondc.esamudaay.com', 'https://api.test.esamudaay.com/external/v1/ondc/retail/bpp']]\n"
     ]
    }
   ],
   "source": [
    "column=[]\n",
    "rows=[]\n",
    "for i in data['context'].keys():\n",
    "    rows.append(data['context'][i])\n",
    "column.append(rows)\n",
    "print(column)"
   ]
  },
  {
   "cell_type": "code",
   "execution_count": 136,
   "id": "42f38ee8-8afa-43be-b76d-c08b4f8cbf24",
   "metadata": {},
   "outputs": [
    {
     "data": {
      "text/html": [
       "<div>\n",
       "<style scoped>\n",
       "    .dataframe tbody tr th:only-of-type {\n",
       "        vertical-align: middle;\n",
       "    }\n",
       "\n",
       "    .dataframe tbody tr th {\n",
       "        vertical-align: top;\n",
       "    }\n",
       "\n",
       "    .dataframe thead th {\n",
       "        text-align: right;\n",
       "    }\n",
       "</style>\n",
       "<table border=\"1\" class=\"dataframe\">\n",
       "  <thead>\n",
       "    <tr style=\"text-align: right;\">\n",
       "      <th></th>\n",
       "      <th>action</th>\n",
       "      <th>transaction_id</th>\n",
       "      <th>message_id</th>\n",
       "      <th>city</th>\n",
       "      <th>domain</th>\n",
       "      <th>country</th>\n",
       "      <th>core_version</th>\n",
       "      <th>timestamp</th>\n",
       "      <th>bap_id</th>\n",
       "      <th>bap_uri</th>\n",
       "      <th>bpp_id</th>\n",
       "      <th>bpp_uri</th>\n",
       "    </tr>\n",
       "  </thead>\n",
       "  <tbody>\n",
       "    <tr>\n",
       "      <th>0</th>\n",
       "      <td>on_search</td>\n",
       "      <td>abhinav4</td>\n",
       "      <td>1658995248462</td>\n",
       "      <td>std:080</td>\n",
       "      <td>nic2004:52110</td>\n",
       "      <td>IND</td>\n",
       "      <td>0.9.3</td>\n",
       "      <td>2022-07-29T11:01:41.796972Z</td>\n",
       "      <td>ondc.paytm.com</td>\n",
       "      <td>https://bb5c-45-112-144-38.ngrok.io/add</td>\n",
       "      <td>agri.ondc.esamudaay.com</td>\n",
       "      <td>https://api.test.esamudaay.com/external/v1/ond...</td>\n",
       "    </tr>\n",
       "  </tbody>\n",
       "</table>\n",
       "</div>"
      ],
      "text/plain": [
       "      action transaction_id     message_id     city         domain country  \\\n",
       "0  on_search       abhinav4  1658995248462  std:080  nic2004:52110     IND   \n",
       "\n",
       "  core_version                    timestamp          bap_id  \\\n",
       "0        0.9.3  2022-07-29T11:01:41.796972Z  ondc.paytm.com   \n",
       "\n",
       "                                   bap_uri                   bpp_id  \\\n",
       "0  https://bb5c-45-112-144-38.ngrok.io/add  agri.ondc.esamudaay.com   \n",
       "\n",
       "                                             bpp_uri  \n",
       "0  https://api.test.esamudaay.com/external/v1/ond...  "
      ]
     },
     "execution_count": 136,
     "metadata": {},
     "output_type": "execute_result"
    }
   ],
   "source": [
    "context.loc[len(context)] = column[0]\n",
    "context"
   ]
  },
  {
   "cell_type": "code",
   "execution_count": 140,
   "id": "b1a6053c-1767-44b8-b992-dbedb7079f36",
   "metadata": {},
   "outputs": [
    {
     "name": "stdout",
     "output_type": "stream",
     "text": [
      "8\n"
     ]
    }
   ],
   "source": [
    "providers=data['message']['catalog']['bpp/providers']\n",
    "column=[]\n",
    "for i in providers:\n",
    "    rows=[]\n",
    "    for key in i.keys():\n",
    "        rows.append(i[key])\n",
    "    column.append(rows)\n",
    "print(len(column[0]))"
   ]
  },
  {
   "cell_type": "code",
   "execution_count": 141,
   "id": "f0795448-df21-4cb1-8c3d-1d6838497298",
   "metadata": {},
   "outputs": [
    {
     "data": {
      "text/html": [
       "<div>\n",
       "<style scoped>\n",
       "    .dataframe tbody tr th:only-of-type {\n",
       "        vertical-align: middle;\n",
       "    }\n",
       "\n",
       "    .dataframe tbody tr th {\n",
       "        vertical-align: top;\n",
       "    }\n",
       "\n",
       "    .dataframe thead th {\n",
       "        text-align: right;\n",
       "    }\n",
       "</style>\n",
       "<table border=\"1\" class=\"dataframe\">\n",
       "  <thead>\n",
       "    <tr style=\"text-align: right;\">\n",
       "      <th></th>\n",
       "      <th>id</th>\n",
       "      <th>descriptor</th>\n",
       "      <th>locations</th>\n",
       "      <th>fulfillments</th>\n",
       "      <th>rateable</th>\n",
       "      <th>@ondc/org/fssai_license_no</th>\n",
       "      <th>ttl</th>\n",
       "      <th>items</th>\n",
       "    </tr>\n",
       "  </thead>\n",
       "  <tbody>\n",
       "  </tbody>\n",
       "</table>\n",
       "</div>"
      ],
      "text/plain": [
       "Empty DataFrame\n",
       "Columns: [id, descriptor, locations, fulfillments, rateable, @ondc/org/fssai_license_no, ttl, items]\n",
       "Index: []"
      ]
     },
     "execution_count": 141,
     "metadata": {},
     "output_type": "execute_result"
    }
   ],
   "source": [
    "provider_df=pd.DataFrame(columns=['id', 'descriptor','locations','fulfillments', 'rateable', '@ondc/org/fssai_license_no', 'ttl', 'items'])\n",
    "provider_df"
   ]
  },
  {
   "cell_type": "code",
   "execution_count": 142,
   "id": "7e0a1279-131e-42c4-9df6-dbcfa4767b21",
   "metadata": {},
   "outputs": [],
   "source": [
    "provider_df.loc[len(provider_df)]=column[0]"
   ]
  },
  {
   "cell_type": "code",
   "execution_count": 143,
   "id": "558f8ed2-ca49-44db-b54a-c9a131da8fc6",
   "metadata": {},
   "outputs": [
    {
     "data": {
      "text/html": [
       "<div>\n",
       "<style scoped>\n",
       "    .dataframe tbody tr th:only-of-type {\n",
       "        vertical-align: middle;\n",
       "    }\n",
       "\n",
       "    .dataframe tbody tr th {\n",
       "        vertical-align: top;\n",
       "    }\n",
       "\n",
       "    .dataframe thead th {\n",
       "        text-align: right;\n",
       "    }\n",
       "</style>\n",
       "<table border=\"1\" class=\"dataframe\">\n",
       "  <thead>\n",
       "    <tr style=\"text-align: right;\">\n",
       "      <th></th>\n",
       "      <th>id</th>\n",
       "      <th>descriptor</th>\n",
       "      <th>locations</th>\n",
       "      <th>fulfillments</th>\n",
       "      <th>rateable</th>\n",
       "      <th>@ondc/org/fssai_license_no</th>\n",
       "      <th>ttl</th>\n",
       "      <th>items</th>\n",
       "    </tr>\n",
       "  </thead>\n",
       "  <tbody>\n",
       "    <tr>\n",
       "      <th>0</th>\n",
       "      <td>0635ecff-8fde-4185-8cd8-167efda42bbc</td>\n",
       "      <td>{'name': 'Ravada Stores', 'code': 'ESAM', 'sym...</td>\n",
       "      <td>[{'id': '8cbe235d-f510-496b-881b-3e270f0d0463'...</td>\n",
       "      <td>[{'type': 'Pickup', 'id': '2', 'start': {'loca...</td>\n",
       "      <td>False</td>\n",
       "      <td></td>\n",
       "      <td>PT24H</td>\n",
       "      <td>[{'id': '1900', 'parent_item_id': '1388', 'des...</td>\n",
       "    </tr>\n",
       "  </tbody>\n",
       "</table>\n",
       "</div>"
      ],
      "text/plain": [
       "                                     id  \\\n",
       "0  0635ecff-8fde-4185-8cd8-167efda42bbc   \n",
       "\n",
       "                                          descriptor  \\\n",
       "0  {'name': 'Ravada Stores', 'code': 'ESAM', 'sym...   \n",
       "\n",
       "                                           locations  \\\n",
       "0  [{'id': '8cbe235d-f510-496b-881b-3e270f0d0463'...   \n",
       "\n",
       "                                        fulfillments rateable  \\\n",
       "0  [{'type': 'Pickup', 'id': '2', 'start': {'loca...    False   \n",
       "\n",
       "  @ondc/org/fssai_license_no    ttl  \\\n",
       "0                             PT24H   \n",
       "\n",
       "                                               items  \n",
       "0  [{'id': '1900', 'parent_item_id': '1388', 'des...  "
      ]
     },
     "execution_count": 143,
     "metadata": {},
     "output_type": "execute_result"
    }
   ],
   "source": [
    "provider_df"
   ]
  },
  {
   "cell_type": "code",
   "execution_count": 144,
   "id": "8ea925eb-4e92-480e-b771-a92bab7e35e2",
   "metadata": {},
   "outputs": [
    {
     "data": {
      "text/plain": [
       "dict_keys(['name', 'code', 'symbol', 'short_desc', 'long_desc', 'images'])"
      ]
     },
     "execution_count": 144,
     "metadata": {},
     "output_type": "execute_result"
    }
   ],
   "source": [
    "provider_df['descriptor'][0].keys()"
   ]
  },
  {
   "cell_type": "code",
   "execution_count": 167,
   "id": "e59470ad-278f-4522-a1e7-e38b9eb71bdf",
   "metadata": {},
   "outputs": [
    {
     "data": {
      "text/html": [
       "<div>\n",
       "<style scoped>\n",
       "    .dataframe tbody tr th:only-of-type {\n",
       "        vertical-align: middle;\n",
       "    }\n",
       "\n",
       "    .dataframe tbody tr th {\n",
       "        vertical-align: top;\n",
       "    }\n",
       "\n",
       "    .dataframe thead th {\n",
       "        text-align: right;\n",
       "    }\n",
       "</style>\n",
       "<table border=\"1\" class=\"dataframe\">\n",
       "  <thead>\n",
       "    <tr style=\"text-align: right;\">\n",
       "      <th></th>\n",
       "      <th>id</th>\n",
       "      <th>name</th>\n",
       "      <th>code</th>\n",
       "      <th>symbol</th>\n",
       "      <th>short_desc</th>\n",
       "      <th>long_desc</th>\n",
       "      <th>images</th>\n",
       "    </tr>\n",
       "  </thead>\n",
       "  <tbody>\n",
       "  </tbody>\n",
       "</table>\n",
       "</div>"
      ],
      "text/plain": [
       "Empty DataFrame\n",
       "Columns: [id, name, code, symbol, short_desc, long_desc, images]\n",
       "Index: []"
      ]
     },
     "execution_count": 167,
     "metadata": {},
     "output_type": "execute_result"
    }
   ],
   "source": [
    "descriptor_pv=pd.DataFrame(columns=['id','name', 'code', 'symbol', 'short_desc', 'long_desc', 'images'])\n",
    "descriptor_pv"
   ]
  },
  {
   "cell_type": "code",
   "execution_count": 168,
   "id": "df1c9f85-e048-4e35-b3be-e4b7a912cc1a",
   "metadata": {},
   "outputs": [
    {
     "data": {
      "text/plain": [
       "[['0635ecff-8fde-4185-8cd8-167efda42bbc',\n",
       "  'Ravada Stores',\n",
       "  'ESAM',\n",
       "  'https://media.esamudaay.com/user-media/es-logo-small.png',\n",
       "  'Ravada Stores',\n",
       "  'Ravada Stores',\n",
       "  ['https://media.esamudaay.com/user-media/es-logo-small.png']]]"
      ]
     },
     "execution_count": 168,
     "metadata": {},
     "output_type": "execute_result"
    }
   ],
   "source": [
    "rows=[]\n",
    "column=[]\n",
    "for i in range(len(provider_df['descriptor'])):\n",
    "    temp=provider_df['descriptor'][i]\n",
    "    rows.append(provider_df['id'][i])\n",
    "    rows.append(temp['name'])\n",
    "    rows.append(temp['code'])\n",
    "    rows.append(temp['symbol'])\n",
    "    rows.append(temp['short_desc'])\n",
    "    rows.append(temp['long_desc'])\n",
    "    rows.append(temp['images'])\n",
    "column.append(rows)\n",
    "column"
   ]
  },
  {
   "cell_type": "code",
   "execution_count": 169,
   "id": "f25653be-28df-4c91-8e16-a1c4c06a57b8",
   "metadata": {},
   "outputs": [],
   "source": [
    "for i in column:\n",
    "    descriptor_pv.loc[len(descriptor_pv)]=i"
   ]
  },
  {
   "cell_type": "code",
   "execution_count": 170,
   "id": "192400f1-4173-4fce-adae-10db68d5b656",
   "metadata": {},
   "outputs": [
    {
     "data": {
      "text/html": [
       "<div>\n",
       "<style scoped>\n",
       "    .dataframe tbody tr th:only-of-type {\n",
       "        vertical-align: middle;\n",
       "    }\n",
       "\n",
       "    .dataframe tbody tr th {\n",
       "        vertical-align: top;\n",
       "    }\n",
       "\n",
       "    .dataframe thead th {\n",
       "        text-align: right;\n",
       "    }\n",
       "</style>\n",
       "<table border=\"1\" class=\"dataframe\">\n",
       "  <thead>\n",
       "    <tr style=\"text-align: right;\">\n",
       "      <th></th>\n",
       "      <th>id</th>\n",
       "      <th>name</th>\n",
       "      <th>code</th>\n",
       "      <th>symbol</th>\n",
       "      <th>short_desc</th>\n",
       "      <th>long_desc</th>\n",
       "      <th>images</th>\n",
       "    </tr>\n",
       "  </thead>\n",
       "  <tbody>\n",
       "    <tr>\n",
       "      <th>0</th>\n",
       "      <td>0635ecff-8fde-4185-8cd8-167efda42bbc</td>\n",
       "      <td>Ravada Stores</td>\n",
       "      <td>ESAM</td>\n",
       "      <td>https://media.esamudaay.com/user-media/es-logo...</td>\n",
       "      <td>Ravada Stores</td>\n",
       "      <td>Ravada Stores</td>\n",
       "      <td>[https://media.esamudaay.com/user-media/es-log...</td>\n",
       "    </tr>\n",
       "  </tbody>\n",
       "</table>\n",
       "</div>"
      ],
      "text/plain": [
       "                                     id           name  code  \\\n",
       "0  0635ecff-8fde-4185-8cd8-167efda42bbc  Ravada Stores  ESAM   \n",
       "\n",
       "                                              symbol     short_desc  \\\n",
       "0  https://media.esamudaay.com/user-media/es-logo...  Ravada Stores   \n",
       "\n",
       "       long_desc                                             images  \n",
       "0  Ravada Stores  [https://media.esamudaay.com/user-media/es-log...  "
      ]
     },
     "execution_count": 170,
     "metadata": {},
     "output_type": "execute_result"
    }
   ],
   "source": [
    "descriptor_pv"
   ]
  },
  {
   "cell_type": "code",
   "execution_count": 177,
   "id": "b6c4adbe-1ff0-49c9-bd7c-cf08df080cd3",
   "metadata": {},
   "outputs": [
    {
     "data": {
      "text/html": [
       "<div>\n",
       "<style scoped>\n",
       "    .dataframe tbody tr th:only-of-type {\n",
       "        vertical-align: middle;\n",
       "    }\n",
       "\n",
       "    .dataframe tbody tr th {\n",
       "        vertical-align: top;\n",
       "    }\n",
       "\n",
       "    .dataframe thead th {\n",
       "        text-align: right;\n",
       "    }\n",
       "</style>\n",
       "<table border=\"1\" class=\"dataframe\">\n",
       "  <thead>\n",
       "    <tr style=\"text-align: right;\">\n",
       "      <th></th>\n",
       "      <th>provider_id</th>\n",
       "      <th>location_id</th>\n",
       "      <th>descriptor</th>\n",
       "      <th>gps</th>\n",
       "      <th>address</th>\n",
       "    </tr>\n",
       "  </thead>\n",
       "  <tbody>\n",
       "  </tbody>\n",
       "</table>\n",
       "</div>"
      ],
      "text/plain": [
       "Empty DataFrame\n",
       "Columns: [provider_id, location_id, descriptor, gps, address]\n",
       "Index: []"
      ]
     },
     "execution_count": 177,
     "metadata": {},
     "output_type": "execute_result"
    }
   ],
   "source": [
    "locations_df=pd.DataFrame(columns=['provider_id','location_id', 'descriptor', 'gps', 'address'])\n",
    "locations_df"
   ]
  },
  {
   "cell_type": "code",
   "execution_count": 178,
   "id": "a3d645b9-c7eb-4bf4-9112-0119045ab614",
   "metadata": {},
   "outputs": [
    {
     "name": "stdout",
     "output_type": "stream",
     "text": [
      "[['0635ecff-8fde-4185-8cd8-167efda42bbc', '8cbe235d-f510-496b-881b-3e270f0d0463', {'name': 'Main Market', 'code': 'ESAM', 'symbol': '', 'short_desc': 'SHop No 2, Street 1', 'long_desc': '', 'images': []}, '13.0514944,77.5094272', {'city': 'Bangalore', 'street': None, 'area_code': '560035', 'state': 'Karnataka', 'name': 'Main Market'}]]\n"
     ]
    },
    {
     "data": {
      "text/plain": [
       "[['0635ecff-8fde-4185-8cd8-167efda42bbc',\n",
       "  '8cbe235d-f510-496b-881b-3e270f0d0463',\n",
       "  {'name': 'Main Market',\n",
       "   'code': 'ESAM',\n",
       "   'symbol': '',\n",
       "   'short_desc': 'SHop No 2, Street 1',\n",
       "   'long_desc': '',\n",
       "   'images': []},\n",
       "  '13.0514944,77.5094272',\n",
       "  {'city': 'Bangalore',\n",
       "   'street': None,\n",
       "   'area_code': '560035',\n",
       "   'state': 'Karnataka',\n",
       "   'name': 'Main Market'}]]"
      ]
     },
     "execution_count": 178,
     "metadata": {},
     "output_type": "execute_result"
    }
   ],
   "source": [
    "column=[]\n",
    "for i in range(len(provider_df['locations'])):\n",
    "    temp=provider_df['locations'][i]\n",
    "    for j in temp:\n",
    "        rows=[]\n",
    "        rows.append(provider_df['id'][i])\n",
    "        for val in j.values():\n",
    "            rows.append(val)\n",
    "        column.append(rows)\n",
    "        print(column)\n",
    "column"
   ]
  },
  {
   "cell_type": "code",
   "execution_count": 180,
   "id": "0df189b7-8f42-48ff-add0-a1b1aa4a254c",
   "metadata": {},
   "outputs": [
    {
     "name": "stdout",
     "output_type": "stream",
     "text": [
      "5\n"
     ]
    }
   ],
   "source": [
    "for i in column:\n",
    "    print(len(i))\n",
    "    locations_df.loc[len(descriptor_pv)]=i"
   ]
  },
  {
   "cell_type": "code",
   "execution_count": 182,
   "id": "45a08680-52e3-4554-9b5b-c56667177ab5",
   "metadata": {},
   "outputs": [
    {
     "data": {
      "text/html": [
       "<div>\n",
       "<style scoped>\n",
       "    .dataframe tbody tr th:only-of-type {\n",
       "        vertical-align: middle;\n",
       "    }\n",
       "\n",
       "    .dataframe tbody tr th {\n",
       "        vertical-align: top;\n",
       "    }\n",
       "\n",
       "    .dataframe thead th {\n",
       "        text-align: right;\n",
       "    }\n",
       "</style>\n",
       "<table border=\"1\" class=\"dataframe\">\n",
       "  <thead>\n",
       "    <tr style=\"text-align: right;\">\n",
       "      <th></th>\n",
       "      <th>provider_id</th>\n",
       "      <th>location_id</th>\n",
       "      <th>descriptor</th>\n",
       "      <th>gps</th>\n",
       "      <th>address</th>\n",
       "    </tr>\n",
       "  </thead>\n",
       "  <tbody>\n",
       "    <tr>\n",
       "      <th>1</th>\n",
       "      <td>0635ecff-8fde-4185-8cd8-167efda42bbc</td>\n",
       "      <td>8cbe235d-f510-496b-881b-3e270f0d0463</td>\n",
       "      <td>{'name': 'Main Market', 'code': 'ESAM', 'symbo...</td>\n",
       "      <td>13.0514944,77.5094272</td>\n",
       "      <td>{'city': 'Bangalore', 'street': None, 'area_co...</td>\n",
       "    </tr>\n",
       "  </tbody>\n",
       "</table>\n",
       "</div>"
      ],
      "text/plain": [
       "                            provider_id                           location_id  \\\n",
       "1  0635ecff-8fde-4185-8cd8-167efda42bbc  8cbe235d-f510-496b-881b-3e270f0d0463   \n",
       "\n",
       "                                          descriptor                    gps  \\\n",
       "1  {'name': 'Main Market', 'code': 'ESAM', 'symbo...  13.0514944,77.5094272   \n",
       "\n",
       "                                             address  \n",
       "1  {'city': 'Bangalore', 'street': None, 'area_co...  "
      ]
     },
     "execution_count": 182,
     "metadata": {},
     "output_type": "execute_result"
    }
   ],
   "source": [
    "locations_df"
   ]
  },
  {
   "cell_type": "code",
   "execution_count": 187,
   "id": "fead1fa9-b7a3-442e-89e4-8d68482677eb",
   "metadata": {},
   "outputs": [
    {
     "name": "stdout",
     "output_type": "stream",
     "text": [
      "dict_keys(['type', 'id', 'start'])\n",
      "dict_keys(['type', 'id', 'start'])\n"
     ]
    },
    {
     "data": {
      "text/plain": [
       "[['0635ecff-8fde-4185-8cd8-167efda42bbc',\n",
       "  'Pickup',\n",
       "  '2',\n",
       "  {'location': {'id': '8cbe235d-f510-496b-881b-3e270f0d0463',\n",
       "    'gps': '13.0514944,77.5094272',\n",
       "    'address': {'city': 'Bangalore',\n",
       "     'building': None,\n",
       "     'area_code': '560035',\n",
       "     'state': 'Karnataka',\n",
       "     'name': 'Main Market'}}}],\n",
       " ['0635ecff-8fde-4185-8cd8-167efda42bbc',\n",
       "  'Delivery',\n",
       "  '1',\n",
       "  {'location': {'id': '8cbe235d-f510-496b-881b-3e270f0d0463',\n",
       "    'gps': '13.0514944,77.5094272',\n",
       "    'address': {'city': 'Bangalore',\n",
       "     'building': None,\n",
       "     'area_code': '560035',\n",
       "     'state': 'Karnataka',\n",
       "     'name': 'Main Market'}}}]]"
      ]
     },
     "execution_count": 187,
     "metadata": {},
     "output_type": "execute_result"
    }
   ],
   "source": [
    "column=[]\n",
    "for i in range(len(provider_df['fulfillments'])):\n",
    "    temp=provider_df['fulfillments'][i]\n",
    "    for j in temp:\n",
    "        rows=[]\n",
    "        rows.append(provider_df['id'][i])\n",
    "        print(j.keys())\n",
    "        for val in j.values():\n",
    "            rows.append(val)\n",
    "        column.append(rows)\n",
    "column"
   ]
  },
  {
   "cell_type": "code",
   "execution_count": 189,
   "id": "1a23cfde-1994-4c07-a929-81405e2cec10",
   "metadata": {},
   "outputs": [
    {
     "data": {
      "text/html": [
       "<div>\n",
       "<style scoped>\n",
       "    .dataframe tbody tr th:only-of-type {\n",
       "        vertical-align: middle;\n",
       "    }\n",
       "\n",
       "    .dataframe tbody tr th {\n",
       "        vertical-align: top;\n",
       "    }\n",
       "\n",
       "    .dataframe thead th {\n",
       "        text-align: right;\n",
       "    }\n",
       "</style>\n",
       "<table border=\"1\" class=\"dataframe\">\n",
       "  <thead>\n",
       "    <tr style=\"text-align: right;\">\n",
       "      <th></th>\n",
       "      <th>provider_id</th>\n",
       "      <th>type</th>\n",
       "      <th>id</th>\n",
       "      <th>start</th>\n",
       "    </tr>\n",
       "  </thead>\n",
       "  <tbody>\n",
       "    <tr>\n",
       "      <th>0</th>\n",
       "      <td>0635ecff-8fde-4185-8cd8-167efda42bbc</td>\n",
       "      <td>Pickup</td>\n",
       "      <td>2</td>\n",
       "      <td>{'location': {'id': '8cbe235d-f510-496b-881b-3...</td>\n",
       "    </tr>\n",
       "    <tr>\n",
       "      <th>1</th>\n",
       "      <td>0635ecff-8fde-4185-8cd8-167efda42bbc</td>\n",
       "      <td>Delivery</td>\n",
       "      <td>1</td>\n",
       "      <td>{'location': {'id': '8cbe235d-f510-496b-881b-3...</td>\n",
       "    </tr>\n",
       "  </tbody>\n",
       "</table>\n",
       "</div>"
      ],
      "text/plain": [
       "                            provider_id      type id  \\\n",
       "0  0635ecff-8fde-4185-8cd8-167efda42bbc    Pickup  2   \n",
       "1  0635ecff-8fde-4185-8cd8-167efda42bbc  Delivery  1   \n",
       "\n",
       "                                               start  \n",
       "0  {'location': {'id': '8cbe235d-f510-496b-881b-3...  \n",
       "1  {'location': {'id': '8cbe235d-f510-496b-881b-3...  "
      ]
     },
     "execution_count": 189,
     "metadata": {},
     "output_type": "execute_result"
    }
   ],
   "source": [
    "fulfillments_df=pd.DataFrame(columns=['provider_id','type', 'id', 'start'])\n",
    "for i in column:\n",
    "    fulfillments_df.loc[len(fulfillments_df)]=i\n",
    "fulfillments_df"
   ]
  },
  {
   "cell_type": "code",
   "execution_count": 190,
   "id": "07b12346-e310-4cd5-9cd5-d7fd12e6aac5",
   "metadata": {},
   "outputs": [
    {
     "name": "stdout",
     "output_type": "stream",
     "text": [
      "dict_keys(['id', 'parent_item_id', 'descriptor', 'price', 'rateable', 'matched', 'category_id', 'fulfillment_id', 'location_id', '@ondc/org/returnable', '@ondc/org/seller_pickup_return', '@ondc/org/available_on_cod', '@ondc/org/return_window', '@ondc/org/time_to_ship', '@ondc/org/cancellable', '@ondc/org/contact_details_consumer_care', '@ondc/org/statutory_reqs_packaged_commodities'])\n",
      "dict_keys(['id', 'parent_item_id', 'descriptor', 'price', 'rateable', 'matched', 'category_id', 'fulfillment_id', 'location_id', '@ondc/org/returnable', '@ondc/org/seller_pickup_return', '@ondc/org/available_on_cod', '@ondc/org/return_window', '@ondc/org/time_to_ship', '@ondc/org/cancellable', '@ondc/org/contact_details_consumer_care', '@ondc/org/statutory_reqs_packaged_commodities'])\n",
      "dict_keys(['id', 'parent_item_id', 'descriptor', 'price', 'rateable', 'matched', 'category_id', 'fulfillment_id', 'location_id', '@ondc/org/returnable', '@ondc/org/seller_pickup_return', '@ondc/org/available_on_cod', '@ondc/org/return_window', '@ondc/org/time_to_ship', '@ondc/org/cancellable', '@ondc/org/contact_details_consumer_care', '@ondc/org/statutory_reqs_packaged_commodities'])\n"
     ]
    },
    {
     "data": {
      "text/plain": [
       "[['0635ecff-8fde-4185-8cd8-167efda42bbc',\n",
       "  '1900',\n",
       "  '1388',\n",
       "  {'name': 'Chicken Breast Boneless',\n",
       "   'code': 'ESAM',\n",
       "   'symbol': 'https://media.esamudaay.com/user-media/veg.png',\n",
       "   'short_desc': 'Chicken Breast Boneless',\n",
       "   'long_desc': 'Chicken Breast Boneless',\n",
       "   'images': ['https://media.test.esamudaay.com/user-media/chilli-chicken_JRHHisY.jpg']},\n",
       "  {'currency': 'INR',\n",
       "   'value': '1.0',\n",
       "   'listed_price': '0.97',\n",
       "   'maximum_value': '1.0'},\n",
       "  False,\n",
       "  True,\n",
       "  'PACKAGED_COMMODITIES',\n",
       "  '1',\n",
       "  '8cbe235d-f510-496b-881b-3e270f0d0463',\n",
       "  False,\n",
       "  True,\n",
       "  False,\n",
       "  'PT24H',\n",
       "  'PT2H',\n",
       "  False,\n",
       "  'Name. Support Guy1 | Contact no. +918123462111',\n",
       "  {'manufacturer_or_packer_name': 'Kitchen',\n",
       "   'manufacturer_or_packer_address': '103 Prithvi appartment, Malleswaram, Bengaluru, Karnataka 560003',\n",
       "   'common_or_generic_name_of_commodity': 'Chicken',\n",
       "   'net_quantity_or_measure_of_commodity_in_pkg': '250 gms',\n",
       "   'month_year_of_manufacture_packing_import': '14/02/2022',\n",
       "   'imported_product_country_of_origin': 'India'}],\n",
       " ['0635ecff-8fde-4185-8cd8-167efda42bbc',\n",
       "  '1898',\n",
       "  '1387',\n",
       "  {'name': 'Chicken - With Skin',\n",
       "   'code': 'ESAM',\n",
       "   'symbol': 'https://media.esamudaay.com/user-media/veg.png',\n",
       "   'short_desc': 'Chicken - With Skin',\n",
       "   'long_desc': 'Chicken - With Skin',\n",
       "   'images': ['https://media.test.esamudaay.com/user-media/chilli-chicken_JRHHisY.jpg']},\n",
       "  {'currency': 'INR',\n",
       "   'value': '100.0',\n",
       "   'listed_price': '97.09',\n",
       "   'maximum_value': '100.0'},\n",
       "  False,\n",
       "  True,\n",
       "  'PACKAGED_COMMODITIES',\n",
       "  '1',\n",
       "  '8cbe235d-f510-496b-881b-3e270f0d0463',\n",
       "  False,\n",
       "  True,\n",
       "  False,\n",
       "  'PT24H',\n",
       "  'PT2H',\n",
       "  False,\n",
       "  'Name. Support Guy1 | Contact no. +918123462111',\n",
       "  {'manufacturer_or_packer_name': 'Kitchen',\n",
       "   'manufacturer_or_packer_address': '103 Prithvi appartment, Malleswaram, Bengaluru, Karnataka 560003',\n",
       "   'common_or_generic_name_of_commodity': 'Chicken',\n",
       "   'net_quantity_or_measure_of_commodity_in_pkg': '500 gms',\n",
       "   'month_year_of_manufacture_packing_import': '14/02/2022',\n",
       "   'imported_product_country_of_origin': 'India'}],\n",
       " ['0635ecff-8fde-4185-8cd8-167efda42bbc',\n",
       "  '1897',\n",
       "  '1387',\n",
       "  {'name': 'Chicken - With Skin',\n",
       "   'code': 'ESAM',\n",
       "   'symbol': 'https://media.esamudaay.com/user-media/veg.png',\n",
       "   'short_desc': 'Chicken - With Skin',\n",
       "   'long_desc': 'Chicken - With Skin',\n",
       "   'images': ['https://media.test.esamudaay.com/user-media/chilli-chicken_JRHHisY.jpg']},\n",
       "  {'currency': 'INR',\n",
       "   'value': '51.0',\n",
       "   'listed_price': '49.51',\n",
       "   'maximum_value': '51.0'},\n",
       "  False,\n",
       "  True,\n",
       "  'PACKAGED_COMMODITIES',\n",
       "  '1',\n",
       "  '8cbe235d-f510-496b-881b-3e270f0d0463',\n",
       "  False,\n",
       "  True,\n",
       "  False,\n",
       "  'PT24H',\n",
       "  'PT2H',\n",
       "  False,\n",
       "  'Name. Support Guy1 | Contact no. +918123462111',\n",
       "  {'manufacturer_or_packer_name': 'Kitchen',\n",
       "   'manufacturer_or_packer_address': '103 Prithvi appartment, Malleswaram, Bengaluru, Karnataka 560003',\n",
       "   'common_or_generic_name_of_commodity': 'Chicken',\n",
       "   'net_quantity_or_measure_of_commodity_in_pkg': '250 gms',\n",
       "   'month_year_of_manufacture_packing_import': '14/02/2022',\n",
       "   'imported_product_country_of_origin': 'India'}]]"
      ]
     },
     "execution_count": 190,
     "metadata": {},
     "output_type": "execute_result"
    }
   ],
   "source": [
    "column=[]\n",
    "for i in range(len(provider_df['items'])):\n",
    "    temp=provider_df['items'][i]\n",
    "    for j in temp:\n",
    "        rows=[]\n",
    "        rows.append(provider_df['id'][i])\n",
    "        print(j.keys())\n",
    "        for val in j.values():\n",
    "            rows.append(val)\n",
    "        column.append(rows)\n",
    "column"
   ]
  },
  {
   "cell_type": "code",
   "execution_count": 194,
   "id": "f495380a-5602-4158-95e0-9c302ba89e65",
   "metadata": {},
   "outputs": [
    {
     "data": {
      "text/html": [
       "<div>\n",
       "<style scoped>\n",
       "    .dataframe tbody tr th:only-of-type {\n",
       "        vertical-align: middle;\n",
       "    }\n",
       "\n",
       "    .dataframe tbody tr th {\n",
       "        vertical-align: top;\n",
       "    }\n",
       "\n",
       "    .dataframe thead th {\n",
       "        text-align: right;\n",
       "    }\n",
       "</style>\n",
       "<table border=\"1\" class=\"dataframe\">\n",
       "  <thead>\n",
       "    <tr style=\"text-align: right;\">\n",
       "      <th></th>\n",
       "      <th>provider_id</th>\n",
       "      <th>id</th>\n",
       "      <th>parent_item_id</th>\n",
       "      <th>descriptor</th>\n",
       "      <th>price</th>\n",
       "      <th>rateable</th>\n",
       "      <th>matched</th>\n",
       "      <th>category_id</th>\n",
       "      <th>fulfillment_id</th>\n",
       "      <th>location_id</th>\n",
       "      <th>@ondc/org/returnable</th>\n",
       "      <th>@ondc/org/seller_pickup_return</th>\n",
       "      <th>@ondc/org/available_on_cod</th>\n",
       "      <th>@ondc/org/return_window</th>\n",
       "      <th>@ondc/org/time_to_ship</th>\n",
       "      <th>@ondc/org/cancellable</th>\n",
       "      <th>@ondc/org/contact_details_consumer_care</th>\n",
       "      <th>@ondc/org/statutory_reqs_packaged_commodities</th>\n",
       "    </tr>\n",
       "  </thead>\n",
       "  <tbody>\n",
       "    <tr>\n",
       "      <th>0</th>\n",
       "      <td>0635ecff-8fde-4185-8cd8-167efda42bbc</td>\n",
       "      <td>1900</td>\n",
       "      <td>1388</td>\n",
       "      <td>{'name': 'Chicken Breast Boneless', 'code': 'E...</td>\n",
       "      <td>{'currency': 'INR', 'value': '1.0', 'listed_pr...</td>\n",
       "      <td>False</td>\n",
       "      <td>True</td>\n",
       "      <td>PACKAGED_COMMODITIES</td>\n",
       "      <td>1</td>\n",
       "      <td>8cbe235d-f510-496b-881b-3e270f0d0463</td>\n",
       "      <td>False</td>\n",
       "      <td>True</td>\n",
       "      <td>False</td>\n",
       "      <td>PT24H</td>\n",
       "      <td>PT2H</td>\n",
       "      <td>False</td>\n",
       "      <td>Name. Support Guy1 | Contact no. +918123462111</td>\n",
       "      <td>{'manufacturer_or_packer_name': 'Kitchen', 'ma...</td>\n",
       "    </tr>\n",
       "    <tr>\n",
       "      <th>1</th>\n",
       "      <td>0635ecff-8fde-4185-8cd8-167efda42bbc</td>\n",
       "      <td>1898</td>\n",
       "      <td>1387</td>\n",
       "      <td>{'name': 'Chicken - With Skin', 'code': 'ESAM'...</td>\n",
       "      <td>{'currency': 'INR', 'value': '100.0', 'listed_...</td>\n",
       "      <td>False</td>\n",
       "      <td>True</td>\n",
       "      <td>PACKAGED_COMMODITIES</td>\n",
       "      <td>1</td>\n",
       "      <td>8cbe235d-f510-496b-881b-3e270f0d0463</td>\n",
       "      <td>False</td>\n",
       "      <td>True</td>\n",
       "      <td>False</td>\n",
       "      <td>PT24H</td>\n",
       "      <td>PT2H</td>\n",
       "      <td>False</td>\n",
       "      <td>Name. Support Guy1 | Contact no. +918123462111</td>\n",
       "      <td>{'manufacturer_or_packer_name': 'Kitchen', 'ma...</td>\n",
       "    </tr>\n",
       "    <tr>\n",
       "      <th>2</th>\n",
       "      <td>0635ecff-8fde-4185-8cd8-167efda42bbc</td>\n",
       "      <td>1897</td>\n",
       "      <td>1387</td>\n",
       "      <td>{'name': 'Chicken - With Skin', 'code': 'ESAM'...</td>\n",
       "      <td>{'currency': 'INR', 'value': '51.0', 'listed_p...</td>\n",
       "      <td>False</td>\n",
       "      <td>True</td>\n",
       "      <td>PACKAGED_COMMODITIES</td>\n",
       "      <td>1</td>\n",
       "      <td>8cbe235d-f510-496b-881b-3e270f0d0463</td>\n",
       "      <td>False</td>\n",
       "      <td>True</td>\n",
       "      <td>False</td>\n",
       "      <td>PT24H</td>\n",
       "      <td>PT2H</td>\n",
       "      <td>False</td>\n",
       "      <td>Name. Support Guy1 | Contact no. +918123462111</td>\n",
       "      <td>{'manufacturer_or_packer_name': 'Kitchen', 'ma...</td>\n",
       "    </tr>\n",
       "  </tbody>\n",
       "</table>\n",
       "</div>"
      ],
      "text/plain": [
       "                            provider_id    id parent_item_id  \\\n",
       "0  0635ecff-8fde-4185-8cd8-167efda42bbc  1900           1388   \n",
       "1  0635ecff-8fde-4185-8cd8-167efda42bbc  1898           1387   \n",
       "2  0635ecff-8fde-4185-8cd8-167efda42bbc  1897           1387   \n",
       "\n",
       "                                          descriptor  \\\n",
       "0  {'name': 'Chicken Breast Boneless', 'code': 'E...   \n",
       "1  {'name': 'Chicken - With Skin', 'code': 'ESAM'...   \n",
       "2  {'name': 'Chicken - With Skin', 'code': 'ESAM'...   \n",
       "\n",
       "                                               price rateable matched  \\\n",
       "0  {'currency': 'INR', 'value': '1.0', 'listed_pr...    False    True   \n",
       "1  {'currency': 'INR', 'value': '100.0', 'listed_...    False    True   \n",
       "2  {'currency': 'INR', 'value': '51.0', 'listed_p...    False    True   \n",
       "\n",
       "            category_id fulfillment_id                           location_id  \\\n",
       "0  PACKAGED_COMMODITIES              1  8cbe235d-f510-496b-881b-3e270f0d0463   \n",
       "1  PACKAGED_COMMODITIES              1  8cbe235d-f510-496b-881b-3e270f0d0463   \n",
       "2  PACKAGED_COMMODITIES              1  8cbe235d-f510-496b-881b-3e270f0d0463   \n",
       "\n",
       "  @ondc/org/returnable @ondc/org/seller_pickup_return  \\\n",
       "0                False                           True   \n",
       "1                False                           True   \n",
       "2                False                           True   \n",
       "\n",
       "  @ondc/org/available_on_cod @ondc/org/return_window @ondc/org/time_to_ship  \\\n",
       "0                      False                   PT24H                   PT2H   \n",
       "1                      False                   PT24H                   PT2H   \n",
       "2                      False                   PT24H                   PT2H   \n",
       "\n",
       "  @ondc/org/cancellable         @ondc/org/contact_details_consumer_care  \\\n",
       "0                 False  Name. Support Guy1 | Contact no. +918123462111   \n",
       "1                 False  Name. Support Guy1 | Contact no. +918123462111   \n",
       "2                 False  Name. Support Guy1 | Contact no. +918123462111   \n",
       "\n",
       "       @ondc/org/statutory_reqs_packaged_commodities  \n",
       "0  {'manufacturer_or_packer_name': 'Kitchen', 'ma...  \n",
       "1  {'manufacturer_or_packer_name': 'Kitchen', 'ma...  \n",
       "2  {'manufacturer_or_packer_name': 'Kitchen', 'ma...  "
      ]
     },
     "execution_count": 194,
     "metadata": {},
     "output_type": "execute_result"
    }
   ],
   "source": [
    "items_df=pd.DataFrame(columns=['provider_id','id', 'parent_item_id', 'descriptor', 'price', 'rateable', 'matched', 'category_id', 'fulfillment_id', 'location_id', '@ondc/org/returnable', '@ondc/org/seller_pickup_return', '@ondc/org/available_on_cod', '@ondc/org/return_window', '@ondc/org/time_to_ship', '@ondc/org/cancellable', '@ondc/org/contact_details_consumer_care', '@ondc/org/statutory_reqs_packaged_commodities'])\n",
    "for i in column:\n",
    "    items_df.loc[len(items_df)]=i\n",
    "items_df"
   ]
  },
  {
   "cell_type": "code",
   "execution_count": null,
   "id": "767c6cf5-5971-419d-bca2-075ec0f6007c",
   "metadata": {},
   "outputs": [],
   "source": []
  }
 ],
 "metadata": {
  "kernelspec": {
   "display_name": "Python 3",
   "language": "python",
   "name": "python3"
  },
  "language_info": {
   "codemirror_mode": {
    "name": "ipython",
    "version": 3
   },
   "file_extension": ".py",
   "mimetype": "text/x-python",
   "name": "python",
   "nbconvert_exporter": "python",
   "pygments_lexer": "ipython3",
   "version": "3.8.10"
  }
 },
 "nbformat": 4,
 "nbformat_minor": 5
}
