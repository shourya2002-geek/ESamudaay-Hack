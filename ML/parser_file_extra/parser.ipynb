{
 "cells": [
  {
   "cell_type": "code",
   "execution_count": 8,
   "id": "5bb5a1c0",
   "metadata": {},
   "outputs": [],
   "source": [
    "import json\n",
    "import requests"
   ]
  },
  {
   "cell_type": "code",
   "execution_count": 9,
   "id": "59c6e546",
   "metadata": {},
   "outputs": [],
   "source": [
    "class MakeApiCall:\n",
    "\n",
    "    def get_data(self, api):\n",
    "        response = requests.get(f\"{api}\")\n",
    "        if response.status_code == 200:\n",
    "            print(\"sucessfully fetched the data\")\n",
    "            self.formatted_print(response.json())\n",
    "        else:\n",
    "            print(\n",
    "                f\"Hello person, there's a {response.status_code} error with your request\")\n",
    "\n",
    "    def get_user_data(self, api):\n",
    "        response = requests.get(f\"{api}\")\n",
    "        if response.status_code == 200:\n",
    "            print(\"sucessfully fetched the data with parameters provided\")\n",
    "            self.formatted_print(response.json())\n",
    "        else:\n",
    "            print(\n",
    "                f\"Hello person, there's a {response.status_code} error with your request\")\n",
    "\n",
    "    def formatted_print(self, obj):\n",
    "        if(len(obj)<1):\n",
    "            pass\n",
    "        for i in range(len(obj)):\n",
    "            #print(obj[i][\"failure_reasons\"])\n",
    "            print(obj)\n",
    "    def __init__(self, api):\n",
    "        self.get_data(api)\n",
    "    "
   ]
  },
  {
   "cell_type": "code",
   "execution_count": 10,
   "id": "f29d52b6",
   "metadata": {},
   "outputs": [],
   "source": [
    "with open(\"/home/ayush/Downloads/all_businesses.txt\") as f:\n",
    "    lines = f.readlines()\n",
    "    \n",
    "a =[]\n",
    "for line in lines:\n",
    "    l = line[:-1]\n",
    "    tmp = \"https://api.test.esamudaay.com/api/v1/businesses/\" + l + \"/report\"\n",
    "    a.append(tmp)"
   ]
  },
  {
   "cell_type": "code",
   "execution_count": 11,
   "id": "54a7c2fb",
   "metadata": {
    "scrolled": true
   },
   "outputs": [
    {
     "name": "stdout",
     "output_type": "stream",
     "text": [
      "sucessfully fetched the data\n",
      "[{'sku_id': 13804, 'product_name': 'Bibimbap- on order Tenderlion', 'business_name': 'Test Udupi', 'failure_reasons': 'Missing ondc category'}, {'sku_id': 13802, 'product_name': 'Red Kimchi', 'business_name': 'Test Udupi', 'failure_reasons': 'Missing ondc category'}]\n",
      "[{'sku_id': 13804, 'product_name': 'Bibimbap- on order Tenderlion', 'business_name': 'Test Udupi', 'failure_reasons': 'Missing ondc category'}, {'sku_id': 13802, 'product_name': 'Red Kimchi', 'business_name': 'Test Udupi', 'failure_reasons': 'Missing ondc category'}]\n"
     ]
    }
   ],
   "source": [
    "api_call = MakeApiCall(a[1])"
   ]
  },
  {
   "cell_type": "code",
   "execution_count": 222,
   "id": "03746631",
   "metadata": {},
   "outputs": [
    {
     "name": "stdout",
     "output_type": "stream",
     "text": [
      "<__main__.MakeApiCall object at 0x7fd1ac64ca60>\n"
     ]
    }
   ],
   "source": [
    "print(api_call)"
   ]
  },
  {
   "cell_type": "code",
   "execution_count": 105,
   "id": "168f4fa2",
   "metadata": {},
   "outputs": [],
   "source": [
    "with open(\"test.json\") as f:\n",
    "    data = json.load(f)"
   ]
  },
  {
   "cell_type": "code",
   "execution_count": 52,
   "id": "0ee5ea56",
   "metadata": {},
   "outputs": [
    {
     "name": "stdout",
     "output_type": "stream",
     "text": [
      "bpp/providers\n"
     ]
    }
   ],
   "source": []
  },
  {
   "cell_type": "code",
   "execution_count": null,
   "id": "08435cdb",
   "metadata": {},
   "outputs": [],
   "source": []
  },
  {
   "cell_type": "code",
   "execution_count": 108,
   "id": "140029ae",
   "metadata": {},
   "outputs": [],
   "source": [
    "if(user_type==\"bpp/descriptor\"):\n",
    "    errors=[]\n",
    "    #print(data[\"message\"][\"catalog\"][\"bpp/descriptor\"])\n",
    "    df =data[\"message\"][\"catalog\"][\"bpp/descriptor\"]\n",
    "    if \"name\" in df:\n",
    "        name =df[\"name\"]\n",
    "    else:\n",
    "        errors.append(\"name not found\")\n",
    "    if \"code\" in df:\n",
    "        code = df[\"code\"]\n",
    "    if \"symbol\" in df:\n",
    "        symbol = df[\"symbol\"]\n",
    "    else:\n",
    "        errors.append(\"symbol not found\")\n",
    "    if \"short_desc\" in df:\n",
    "        short_desc = df[\"short_desc\"]\n",
    "    else:\n",
    "        errors.append(\"short_desc not found\")\n",
    "    if \"long_desc\" in df:\n",
    "        long_desc = df[\"long_desc\"]\n",
    "    else:\n",
    "        errors.append(\"long_desc not found\")\n",
    "    if \"images\" in df:\n",
    "        images = df[\"images\"]\n",
    "    else:\n",
    "        errors.append(\"images not found\")  \n",
    "    if(len(errors)>0):\n",
    "        print(errors)\n",
    "    else:\n",
    "        print(\"authorised\")\n",
    "elif(user_type==\"bpp/providers\"):\n",
    "    df =data[\"message\"][\"catalog\"][\"bpp/providers\"][0]\n",
    "    errors_p = []\n",
    "    if \"id\" in df:\n",
    "        uid = df[\"id\"]\n",
    "    else:\n",
    "        errors_p.append(\"id not found\")\n",
    "    if \"descriptor\" in df:\n",
    "        descriptor = df[\"descriptor\"]\n",
    "    else:\n",
    "        errors_p.append(\"descripor not found\")\n",
    "    if \"ttl\" in df and df[\"ttl\"]!=\"\" and df[\"ttl\"]!=\" \" and df[\"ttl\"]!=\"0\":\n",
    "        ttl = df[\"ttl\"]\n",
    "    else:\n",
    "        errors_p.append(\"ttl not found\")\n",
    "    if \"@ondc/org/fssai_license_no\" in df and df[\"@ondc/org/fssai_license_no\"]!=\"\" and df[\"@ondc/org/fssai_license_no\"]!=\" \":\n",
    "        fssai_license = df[\"@ondc/org/fssai_license_no\"]\n",
    "    else:\n",
    "        errors_p.append(\"fssai_license_no not found\")\n",
    "    if \"locations\" in df:\n",
    "        locations = df[\"locations\"]\n",
    "    else:\n",
    "        errors.append(\"locations not found\")\n",
    "    if \"items\" in df:\n",
    "        items = df[\"items\"]\n",
    "    else:\n",
    "        errors.append(\"items not found\")\n",
    "elif(user_type==\"bpp/categories\"):\n",
    "    print(data[\"message\"][\"catalog\"][\"bpp/categories\"])"
   ]
  },
  {
   "cell_type": "code",
   "execution_count": 111,
   "id": "b46a2569",
   "metadata": {},
   "outputs": [
    {
     "data": {
      "text/plain": [
       "[{'id': '1900',\n",
       "  'parent_item_id': '1388',\n",
       "  'descriptor': {'name': 'Chicken Breast Boneless',\n",
       "   'code': 'ESAM',\n",
       "   'symbol': 'https://media.esamudaay.com/user-media/veg.png',\n",
       "   'short_desc': 'Chicken Breast Boneless',\n",
       "   'long_desc': 'Chicken Breast Boneless',\n",
       "   'images': ['https://media.test.esamudaay.com/user-media/chilli-chicken_JRHHisY.jpg']},\n",
       "  'price': {'currency': 'INR',\n",
       "   'value': '1.0',\n",
       "   'listed_price': '0.97',\n",
       "   'maximum_value': '1.0'},\n",
       "  'rateable': False,\n",
       "  'matched': True,\n",
       "  'category_id': 'PACKAGED_COMMODITIES',\n",
       "  'fulfillment_id': '1',\n",
       "  'location_id': '8cbe235d-f510-496b-881b-3e270f0d0463',\n",
       "  '@ondc/org/returnable': False,\n",
       "  '@ondc/org/seller_pickup_return': True,\n",
       "  '@ondc/org/available_on_cod': False,\n",
       "  '@ondc/org/return_window': 'PT24H',\n",
       "  '@ondc/org/time_to_ship': 'PT2H',\n",
       "  '@ondc/org/cancellable': False,\n",
       "  '@ondc/org/contact_details_consumer_care': 'Name. Support Guy1 | Contact no. +918123462111',\n",
       "  '@ondc/org/statutory_reqs_packaged_commodities': {'manufacturer_or_packer_name': 'Kitchen',\n",
       "   'manufacturer_or_packer_address': '103 Prithvi appartment, Malleswaram, Bengaluru, Karnataka 560003',\n",
       "   'common_or_generic_name_of_commodity': 'Chicken',\n",
       "   'net_quantity_or_measure_of_commodity_in_pkg': '250 gms',\n",
       "   'month_year_of_manufacture_packing_import': '14/02/2022',\n",
       "   'imported_product_country_of_origin': 'India'}},\n",
       " {'id': '1898',\n",
       "  'parent_item_id': '1387',\n",
       "  'descriptor': {'name': 'Chicken - With Skin',\n",
       "   'code': 'ESAM',\n",
       "   'symbol': 'https://media.esamudaay.com/user-media/veg.png',\n",
       "   'short_desc': 'Chicken - With Skin',\n",
       "   'long_desc': 'Chicken - With Skin',\n",
       "   'images': ['https://media.test.esamudaay.com/user-media/chilli-chicken_JRHHisY.jpg']},\n",
       "  'price': {'currency': 'INR',\n",
       "   'value': '100.0',\n",
       "   'listed_price': '97.09',\n",
       "   'maximum_value': '100.0'},\n",
       "  'rateable': False,\n",
       "  'matched': True,\n",
       "  'category_id': 'PACKAGED_COMMODITIES',\n",
       "  'fulfillment_id': '1',\n",
       "  'location_id': '8cbe235d-f510-496b-881b-3e270f0d0463',\n",
       "  '@ondc/org/returnable': False,\n",
       "  '@ondc/org/seller_pickup_return': True,\n",
       "  '@ondc/org/available_on_cod': False,\n",
       "  '@ondc/org/return_window': 'PT24H',\n",
       "  '@ondc/org/time_to_ship': 'PT2H',\n",
       "  '@ondc/org/cancellable': False,\n",
       "  '@ondc/org/contact_details_consumer_care': 'Name. Support Guy1 | Contact no. +918123462111',\n",
       "  '@ondc/org/statutory_reqs_packaged_commodities': {'manufacturer_or_packer_name': 'Kitchen',\n",
       "   'manufacturer_or_packer_address': '103 Prithvi appartment, Malleswaram, Bengaluru, Karnataka 560003',\n",
       "   'common_or_generic_name_of_commodity': 'Chicken',\n",
       "   'net_quantity_or_measure_of_commodity_in_pkg': '500 gms',\n",
       "   'month_year_of_manufacture_packing_import': '14/02/2022',\n",
       "   'imported_product_country_of_origin': 'India'}},\n",
       " {'id': '1897',\n",
       "  'parent_item_id': '1387',\n",
       "  'descriptor': {'name': 'Chicken - With Skin',\n",
       "   'code': 'ESAM',\n",
       "   'symbol': 'https://media.esamudaay.com/user-media/veg.png',\n",
       "   'short_desc': 'Chicken - With Skin',\n",
       "   'long_desc': 'Chicken - With Skin',\n",
       "   'images': ['https://media.test.esamudaay.com/user-media/chilli-chicken_JRHHisY.jpg']},\n",
       "  'price': {'currency': 'INR',\n",
       "   'value': '51.0',\n",
       "   'listed_price': '49.51',\n",
       "   'maximum_value': '51.0'},\n",
       "  'rateable': False,\n",
       "  'matched': True,\n",
       "  'category_id': 'PACKAGED_COMMODITIES',\n",
       "  'fulfillment_id': '1',\n",
       "  'location_id': '8cbe235d-f510-496b-881b-3e270f0d0463',\n",
       "  '@ondc/org/returnable': False,\n",
       "  '@ondc/org/seller_pickup_return': True,\n",
       "  '@ondc/org/available_on_cod': False,\n",
       "  '@ondc/org/return_window': 'PT24H',\n",
       "  '@ondc/org/time_to_ship': 'PT2H',\n",
       "  '@ondc/org/cancellable': False,\n",
       "  '@ondc/org/contact_details_consumer_care': 'Name. Support Guy1 | Contact no. +918123462111',\n",
       "  '@ondc/org/statutory_reqs_packaged_commodities': {'manufacturer_or_packer_name': 'Kitchen',\n",
       "   'manufacturer_or_packer_address': '103 Prithvi appartment, Malleswaram, Bengaluru, Karnataka 560003',\n",
       "   'common_or_generic_name_of_commodity': 'Chicken',\n",
       "   'net_quantity_or_measure_of_commodity_in_pkg': '250 gms',\n",
       "   'month_year_of_manufacture_packing_import': '14/02/2022',\n",
       "   'imported_product_country_of_origin': 'India'}}]"
      ]
     },
     "execution_count": 111,
     "metadata": {},
     "output_type": "execute_result"
    }
   ],
   "source": [
    "items"
   ]
  },
  {
   "cell_type": "code",
   "execution_count": 109,
   "id": "1497e6d2",
   "metadata": {},
   "outputs": [
    {
     "data": {
      "text/plain": [
       "['fssai_license_no not found']"
      ]
     },
     "execution_count": 109,
     "metadata": {},
     "output_type": "execute_result"
    }
   ],
   "source": [
    "errors_p"
   ]
  },
  {
   "cell_type": "code",
   "execution_count": 79,
   "id": "806f231c",
   "metadata": {},
   "outputs": [
    {
     "name": "stdout",
     "output_type": "stream",
     "text": [
      "{'id': '0635ecff-8fde-4185-8cd8-167efda42bbc', 'descriptor': {'name': 'Ravada Stores', 'code': 'ESAM', 'symbol': 'https://media.esamudaay.com/user-media/es-logo-small.png', 'short_desc': 'Ravada Stores', 'long_desc': 'Ravada Stores', 'images': ['https://media.esamudaay.com/user-media/es-logo-small.png']}, 'locations': [{'id': '8cbe235d-f510-496b-881b-3e270f0d0463', 'descriptor': {'name': 'Main Market', 'code': 'ESAM', 'symbol': '', 'short_desc': 'SHop No 2, Street 1', 'long_desc': '', 'images': []}, 'gps': '13.0514944,77.5094272', 'address': {'city': 'Bangalore', 'street': None, 'area_code': '560035', 'state': 'Karnataka', 'name': 'Main Market'}}], 'fulfillments': [{'type': 'Pickup', 'id': '2', 'start': {'location': {'id': '8cbe235d-f510-496b-881b-3e270f0d0463', 'gps': '13.0514944,77.5094272', 'address': {'city': 'Bangalore', 'building': None, 'area_code': '560035', 'state': 'Karnataka', 'name': 'Main Market'}}}}, {'type': 'Delivery', 'id': '1', 'start': {'location': {'id': '8cbe235d-f510-496b-881b-3e270f0d0463', 'gps': '13.0514944,77.5094272', 'address': {'city': 'Bangalore', 'building': None, 'area_code': '560035', 'state': 'Karnataka', 'name': 'Main Market'}}}}], 'rateable': False, '@ondc/org/fssai_license_no': '', 'ttl': 'PT24H', 'items': [{'id': '1900', 'parent_item_id': '1388', 'descriptor': {'name': 'Chicken Breast Boneless', 'code': 'ESAM', 'symbol': 'https://media.esamudaay.com/user-media/veg.png', 'short_desc': 'Chicken Breast Boneless', 'long_desc': 'Chicken Breast Boneless', 'images': ['https://media.test.esamudaay.com/user-media/chilli-chicken_JRHHisY.jpg']}, 'price': {'currency': 'INR', 'value': '1.0', 'listed_price': '0.97', 'maximum_value': '1.0'}, 'rateable': False, 'matched': True, 'category_id': 'PACKAGED_COMMODITIES', 'fulfillment_id': '1', 'location_id': '8cbe235d-f510-496b-881b-3e270f0d0463', '@ondc/org/returnable': False, '@ondc/org/seller_pickup_return': True, '@ondc/org/available_on_cod': False, '@ondc/org/return_window': 'PT24H', '@ondc/org/time_to_ship': 'PT2H', '@ondc/org/cancellable': False, '@ondc/org/contact_details_consumer_care': 'Name. Support Guy1 | Contact no. +918123462111', '@ondc/org/statutory_reqs_packaged_commodities': {'manufacturer_or_packer_name': 'Kitchen', 'manufacturer_or_packer_address': '103 Prithvi appartment, Malleswaram, Bengaluru, Karnataka 560003', 'common_or_generic_name_of_commodity': 'Chicken', 'net_quantity_or_measure_of_commodity_in_pkg': '250 gms', 'month_year_of_manufacture_packing_import': '14/02/2022', 'imported_product_country_of_origin': 'India'}}, {'id': '1898', 'parent_item_id': '1387', 'descriptor': {'name': 'Chicken - With Skin', 'code': 'ESAM', 'symbol': 'https://media.esamudaay.com/user-media/veg.png', 'short_desc': 'Chicken - With Skin', 'long_desc': 'Chicken - With Skin', 'images': ['https://media.test.esamudaay.com/user-media/chilli-chicken_JRHHisY.jpg']}, 'price': {'currency': 'INR', 'value': '100.0', 'listed_price': '97.09', 'maximum_value': '100.0'}, 'rateable': False, 'matched': True, 'category_id': 'PACKAGED_COMMODITIES', 'fulfillment_id': '1', 'location_id': '8cbe235d-f510-496b-881b-3e270f0d0463', '@ondc/org/returnable': False, '@ondc/org/seller_pickup_return': True, '@ondc/org/available_on_cod': False, '@ondc/org/return_window': 'PT24H', '@ondc/org/time_to_ship': 'PT2H', '@ondc/org/cancellable': False, '@ondc/org/contact_details_consumer_care': 'Name. Support Guy1 | Contact no. +918123462111', '@ondc/org/statutory_reqs_packaged_commodities': {'manufacturer_or_packer_name': 'Kitchen', 'manufacturer_or_packer_address': '103 Prithvi appartment, Malleswaram, Bengaluru, Karnataka 560003', 'common_or_generic_name_of_commodity': 'Chicken', 'net_quantity_or_measure_of_commodity_in_pkg': '500 gms', 'month_year_of_manufacture_packing_import': '14/02/2022', 'imported_product_country_of_origin': 'India'}}, {'id': '1897', 'parent_item_id': '1387', 'descriptor': {'name': 'Chicken - With Skin', 'code': 'ESAM', 'symbol': 'https://media.esamudaay.com/user-media/veg.png', 'short_desc': 'Chicken - With Skin', 'long_desc': 'Chicken - With Skin', 'images': ['https://media.test.esamudaay.com/user-media/chilli-chicken_JRHHisY.jpg']}, 'price': {'currency': 'INR', 'value': '51.0', 'listed_price': '49.51', 'maximum_value': '51.0'}, 'rateable': False, 'matched': True, 'category_id': 'PACKAGED_COMMODITIES', 'fulfillment_id': '1', 'location_id': '8cbe235d-f510-496b-881b-3e270f0d0463', '@ondc/org/returnable': False, '@ondc/org/seller_pickup_return': True, '@ondc/org/available_on_cod': False, '@ondc/org/return_window': 'PT24H', '@ondc/org/time_to_ship': 'PT2H', '@ondc/org/cancellable': False, '@ondc/org/contact_details_consumer_care': 'Name. Support Guy1 | Contact no. +918123462111', '@ondc/org/statutory_reqs_packaged_commodities': {'manufacturer_or_packer_name': 'Kitchen', 'manufacturer_or_packer_address': '103 Prithvi appartment, Malleswaram, Bengaluru, Karnataka 560003', 'common_or_generic_name_of_commodity': 'Chicken', 'net_quantity_or_measure_of_commodity_in_pkg': '250 gms', 'month_year_of_manufacture_packing_import': '14/02/2022', 'imported_product_country_of_origin': 'India'}}]}\n"
     ]
    }
   ],
   "source": [
    "print(data[\"message\"][\"catalog\"][\"bpp/providers\"][0])"
   ]
  },
  {
   "cell_type": "raw",
   "id": "ad572ede",
   "metadata": {},
   "source": []
  }
 ],
 "metadata": {
  "kernelspec": {
   "display_name": "Python 3",
   "language": "python",
   "name": "python3"
  },
  "language_info": {
   "codemirror_mode": {
    "name": "ipython",
    "version": 3
   },
   "file_extension": ".py",
   "mimetype": "text/x-python",
   "name": "python",
   "nbconvert_exporter": "python",
   "pygments_lexer": "ipython3",
   "version": "3.8.10"
  }
 },
 "nbformat": 4,
 "nbformat_minor": 5
}
